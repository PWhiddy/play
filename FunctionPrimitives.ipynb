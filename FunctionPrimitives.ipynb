{
 "cells": [
  {
   "cell_type": "markdown",
   "id": "7ada2d3c-daba-43bd-ad41-3271991e2c09",
   "metadata": {},
   "source": [
    "### pow using only +-*/"
   ]
  },
  {
   "cell_type": "code",
   "execution_count": 1,
   "id": "1a7e8fb0-b8bf-419e-98c7-1108135076cf",
   "metadata": {
    "tags": []
   },
   "outputs": [],
   "source": [
    "import math"
   ]
  },
  {
   "cell_type": "code",
   "execution_count": 45,
   "id": "860f4aae-4eef-4b88-8cd8-e19a4c9e6cee",
   "metadata": {
    "tags": []
   },
   "outputs": [],
   "source": [
    "# taylor series centered at 0 only accurate for smaller values of x\n",
    "def exp(x, iters=35):\n",
    "    val = 1\n",
    "    x_n = x\n",
    "    denom = 1\n",
    "    for i in range(iters):\n",
    "        val += x_n / denom\n",
    "        x_n *= x\n",
    "        denom *= (i + 2)\n",
    "    return val"
   ]
  },
  {
   "cell_type": "code",
   "execution_count": 59,
   "id": "9ad9c3e3-eef5-4178-9dfe-1d78771f27ad",
   "metadata": {
    "tags": []
   },
   "outputs": [
    {
     "data": {
      "text/plain": [
       "244.69193226422033"
      ]
     },
     "execution_count": 59,
     "metadata": {},
     "output_type": "execute_result"
    }
   ],
   "source": [
    "exp(5.5)"
   ]
  },
  {
   "cell_type": "code",
   "execution_count": 60,
   "id": "aeabf0be-d169-4285-bc70-2510cd853db5",
   "metadata": {
    "tags": []
   },
   "outputs": [
    {
     "data": {
      "text/plain": [
       "244.69193226422033"
      ]
     },
     "execution_count": 60,
     "metadata": {},
     "output_type": "execute_result"
    }
   ],
   "source": [
    "math.e**5.5"
   ]
  },
  {
   "cell_type": "code",
   "execution_count": null,
   "id": "bea319bf-acfc-4619-ac1a-2d8b4e4ede49",
   "metadata": {},
   "outputs": [],
   "source": [
    "def ln(x, iters=16):\n",
    "    sgn = -1\n",
    "    x\n",
    "    (-1)n-1(x-a)n \n",
    "n an \n"
   ]
  }
 ],
 "metadata": {
  "kernelspec": {
   "display_name": "Python 3 (ipykernel)",
   "language": "python",
   "name": "python3"
  },
  "language_info": {
   "codemirror_mode": {
    "name": "ipython",
    "version": 3
   },
   "file_extension": ".py",
   "mimetype": "text/x-python",
   "name": "python",
   "nbconvert_exporter": "python",
   "pygments_lexer": "ipython3",
   "version": "3.10.9"
  }
 },
 "nbformat": 4,
 "nbformat_minor": 5
}
